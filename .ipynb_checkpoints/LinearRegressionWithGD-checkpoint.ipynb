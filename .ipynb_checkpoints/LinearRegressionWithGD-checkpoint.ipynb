{
 "cells": [
  {
   "cell_type": "markdown",
   "metadata": {},
   "source": [
    "Linear Rgression"
   ]
  },
  {
   "cell_type": "code",
   "execution_count": 1,
   "metadata": {},
   "outputs": [],
   "source": [
    "import numpy as np\n",
    "import pandas as pd"
   ]
  },
  {
   "cell_type": "code",
   "execution_count": 2,
   "metadata": {},
   "outputs": [],
   "source": [
    "#read data\n",
    "df = pd.read_table('ex1/ex1data2.txt',sep= ',',header=None)"
   ]
  },
  {
   "cell_type": "code",
   "execution_count": 3,
   "metadata": {},
   "outputs": [],
   "source": [
    "df.columns = ['X1', 'X2','y']\n"
   ]
  },
  {
   "cell_type": "code",
   "execution_count": 4,
   "metadata": {},
   "outputs": [],
   "source": [
    "y=np.array([df.y])\n",
    "m=len(y[0])\n",
    "\n",
    "X1 = (df.X1-df.X1.mean())/df.X1.std()        \n",
    "X2 = (df.X2-df.X2.mean())/df.X2.std()\n",
    "X=np.array((np.ones(m),X1,X2))\n",
    "theta= np.array([np.zeros(len(X))])"
   ]
  },
  {
   "cell_type": "markdown",
   "metadata": {},
   "source": [
    "Cost function"
   ]
  },
  {
   "cell_type": "code",
   "execution_count": 5,
   "metadata": {},
   "outputs": [],
   "source": [
    "def J(X,y,theta): \n",
    "    temp=(1/(2*m))*np.sum((theta.dot(X)-y)**2)\n",
    "    return temp"
   ]
  },
  {
   "cell_type": "markdown",
   "metadata": {},
   "source": [
    "Gradient Descent"
   ]
  },
  {
   "cell_type": "code",
   "execution_count": 6,
   "metadata": {},
   "outputs": [],
   "source": [
    "#alpha = 0.01 ; num_iters = 400;\n",
    "def GD(X,y,theta,alpha = 0.01 , num_iters = 400) :\n",
    "    i=1\n",
    "    cost=np.zeros(num_iters)\n",
    "    while i <= num_iters :\n",
    "        prediction = theta.dot(X)\n",
    "        theta = theta - alpha*(1/m)*((prediction-y).dot(X.T))\n",
    "        cost[i-1] = J(X,y,theta)\n",
    "        #print(cost)\n",
    "        i+=1\n",
    "    return theta, cost"
   ]
  },
  {
   "cell_type": "code",
   "execution_count": 7,
   "metadata": {},
   "outputs": [],
   "source": [
    "result=GD(X,y,theta,num_iters = 400)"
   ]
  },
  {
   "cell_type": "code",
   "execution_count": 8,
   "metadata": {},
   "outputs": [],
   "source": [
    "import matplotlib as mpl\n",
    "import matplotlib.pylab as plt"
   ]
  },
  {
   "cell_type": "code",
   "execution_count": 10,
   "metadata": {},
   "outputs": [],
   "source": [
    "%matplotlib inline\n",
    "%config InlineBackend.figure_format = 'png'\n",
    "%matplotlib widget"
   ]
  },
  {
   "cell_type": "code",
   "execution_count": 11,
   "metadata": {},
   "outputs": [
    {
     "data": {
      "application/vnd.jupyter.widget-view+json": {
       "model_id": "6936a77dd4824e2bbe47157816145505",
       "version_major": 2,
       "version_minor": 0
      },
      "text/plain": [
       "FigureCanvasNbAgg()"
      ]
     },
     "metadata": {},
     "output_type": "display_data"
    },
    {
     "data": {
      "text/plain": [
       "([<matplotlib.axis.XTick at 0x20d137d9c18>,\n",
       "  <matplotlib.axis.XTick at 0x20d137d9518>,\n",
       "  <matplotlib.axis.XTick at 0x20d137d9320>,\n",
       "  <matplotlib.axis.XTick at 0x20d13a1c198>],\n",
       " <a list of 4 Text xticklabel objects>)"
      ]
     },
     "execution_count": 11,
     "metadata": {},
     "output_type": "execute_result"
    }
   ],
   "source": [
    "plt.plot(result[1])\n",
    "plt.xlim(1,410)\n",
    "plt.grid(True)\n",
    "plt.xticks([100,200,300,400])"
   ]
  }
 ],
 "metadata": {
  "kernelspec": {
   "display_name": "Python 3",
   "language": "python",
   "name": "python3"
  },
  "language_info": {
   "codemirror_mode": {
    "name": "ipython",
    "version": 3
   },
   "file_extension": ".py",
   "mimetype": "text/x-python",
   "name": "python",
   "nbconvert_exporter": "python",
   "pygments_lexer": "ipython3",
   "version": "3.6.5"
  }
 },
 "nbformat": 4,
 "nbformat_minor": 2
}
