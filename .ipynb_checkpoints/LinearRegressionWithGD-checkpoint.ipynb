{
 "cells": [
  {
   "cell_type": "markdown",
   "metadata": {},
   "source": [
    "Linear Rgression"
   ]
  },
  {
   "cell_type": "code",
   "execution_count": 108,
   "metadata": {},
   "outputs": [],
   "source": [
    "import numpy as np\n",
    "import pandas as pd\n",
    "from sklearn.preprocessing import normalize"
   ]
  },
  {
   "cell_type": "code",
   "execution_count": 25,
   "metadata": {},
   "outputs": [],
   "source": [
    "#read data\n",
    "df = pd.read_table('ex1/ex1data2.txt',sep= ',',header=None)"
   ]
  },
  {
   "cell_type": "code",
   "execution_count": 110,
   "metadata": {},
   "outputs": [
    {
     "data": {
      "text/html": [
       "<div>\n",
       "<style scoped>\n",
       "    .dataframe tbody tr th:only-of-type {\n",
       "        vertical-align: middle;\n",
       "    }\n",
       "\n",
       "    .dataframe tbody tr th {\n",
       "        vertical-align: top;\n",
       "    }\n",
       "\n",
       "    .dataframe thead th {\n",
       "        text-align: right;\n",
       "    }\n",
       "</style>\n",
       "<table border=\"1\" class=\"dataframe\">\n",
       "  <thead>\n",
       "    <tr style=\"text-align: right;\">\n",
       "      <th></th>\n",
       "      <th>X1</th>\n",
       "      <th>X2</th>\n",
       "      <th>y</th>\n",
       "    </tr>\n",
       "  </thead>\n",
       "  <tbody>\n",
       "    <tr>\n",
       "      <th>0</th>\n",
       "      <td>2104</td>\n",
       "      <td>3</td>\n",
       "      <td>399900</td>\n",
       "    </tr>\n",
       "    <tr>\n",
       "      <th>1</th>\n",
       "      <td>1600</td>\n",
       "      <td>3</td>\n",
       "      <td>329900</td>\n",
       "    </tr>\n",
       "    <tr>\n",
       "      <th>2</th>\n",
       "      <td>2400</td>\n",
       "      <td>3</td>\n",
       "      <td>369000</td>\n",
       "    </tr>\n",
       "    <tr>\n",
       "      <th>3</th>\n",
       "      <td>1416</td>\n",
       "      <td>2</td>\n",
       "      <td>232000</td>\n",
       "    </tr>\n",
       "    <tr>\n",
       "      <th>4</th>\n",
       "      <td>3000</td>\n",
       "      <td>4</td>\n",
       "      <td>539900</td>\n",
       "    </tr>\n",
       "  </tbody>\n",
       "</table>\n",
       "</div>"
      ],
      "text/plain": [
       "     X1  X2       y\n",
       "0  2104   3  399900\n",
       "1  1600   3  329900\n",
       "2  2400   3  369000\n",
       "3  1416   2  232000\n",
       "4  3000   4  539900"
      ]
     },
     "execution_count": 110,
     "metadata": {},
     "output_type": "execute_result"
    }
   ],
   "source": [
    "df.columns = ['X1', 'X2','y']\n",
    "df.head()"
   ]
  },
  {
   "cell_type": "code",
   "execution_count": 173,
   "metadata": {},
   "outputs": [],
   "source": [
    "y=np.array([df.y])\n",
    "m=len(y[0])\n",
    "#df.X1= normalize(df.X1) ; df.X2=normalize(df.X2)\n",
    "X=np.array((np.ones(m),df.X1,df.X2))\n",
    "theta= np.array([np.zeros(len(X))])"
   ]
  },
  {
   "cell_type": "code",
   "execution_count": 174,
   "metadata": {},
   "outputs": [],
   "source": [
    "X[1:3,:]=normalize(X[1:3,:]) #standardize X"
   ]
  },
  {
   "cell_type": "code",
   "execution_count": 175,
   "metadata": {},
   "outputs": [
    {
     "name": "stdout",
     "output_type": "stream",
     "text": [
      "(1, 3)\n",
      "(3, 47)\n"
     ]
    }
   ],
   "source": [
    "print(theta.shape)\n",
    "print(X.shape)"
   ]
  },
  {
   "cell_type": "markdown",
   "metadata": {},
   "source": [
    "Cost function"
   ]
  },
  {
   "cell_type": "code",
   "execution_count": 147,
   "metadata": {},
   "outputs": [],
   "source": [
    "def J(X,y,theta): \n",
    "    temp=(1/(2*m))*np.sum((theta.dot(X)-y)**2)\n",
    "    return temp"
   ]
  },
  {
   "cell_type": "code",
   "execution_count": 125,
   "metadata": {},
   "outputs": [
    {
     "data": {
      "text/plain": [
       "2723198301766.223"
      ]
     },
     "execution_count": 125,
     "metadata": {},
     "output_type": "execute_result"
    }
   ],
   "source": [
    "J(X,y,theta)"
   ]
  },
  {
   "cell_type": "markdown",
   "metadata": {},
   "source": [
    "Gradient Descent"
   ]
  },
  {
   "cell_type": "code",
   "execution_count": 176,
   "metadata": {},
   "outputs": [],
   "source": [
    "#alpha = 0.01 ; num_iters = 400;\n",
    "def GD(X,y,theta,alpha = 0.01 , num_iters = 400) :\n",
    "    i=1\n",
    "    while i <= num_iters :\n",
    "        prediction = theta.dot(X)-y\n",
    "        theta = theta - alpha*(1/m)*(prediction.dot(X.T))\n",
    "        cost = J(X,y,theta)\n",
    "        #print(cost)\n",
    "        i+=1\n",
    "    return theta, cost"
   ]
  },
  {
   "cell_type": "code",
   "execution_count": 177,
   "metadata": {},
   "outputs": [],
   "source": [
    "result=GD(X,y,theta)"
   ]
  },
  {
   "cell_type": "code",
   "execution_count": 178,
   "metadata": {},
   "outputs": [
    {
     "data": {
      "text/plain": [
       "array([[319810.24800963,  65320.44430557,  52405.20253127]])"
      ]
     },
     "execution_count": 178,
     "metadata": {},
     "output_type": "execute_result"
    }
   ],
   "source": [
    "result[0]"
   ]
  },
  {
   "cell_type": "code",
   "execution_count": 182,
   "metadata": {},
   "outputs": [
    {
     "data": {
      "text/plain": [
       "array([[1.        , 1.        , 1.        , 1.        , 1.        ,\n",
       "        1.        , 1.        , 1.        , 1.        , 1.        ,\n",
       "        1.        , 1.        , 1.        , 1.        , 1.        ,\n",
       "        1.        , 1.        , 1.        , 1.        , 1.        ,\n",
       "        1.        , 1.        , 1.        , 1.        , 1.        ,\n",
       "        1.        , 1.        , 1.        , 1.        , 1.        ,\n",
       "        1.        , 1.        , 1.        , 1.        , 1.        ,\n",
       "        1.        , 1.        , 1.        , 1.        , 1.        ,\n",
       "        1.        , 1.        , 1.        , 1.        , 1.        ,\n",
       "        1.        , 1.        ],\n",
       "       [0.14276982, 0.10857021, 0.16285531, 0.09608463, 0.20356914,\n",
       "        0.13469491, 0.10409169, 0.09683105, 0.0936418 , 0.10137743,\n",
       "        0.13164137, 0.13571276, 0.12824856, 0.30386086, 0.08604189,\n",
       "        0.15606967, 0.08957042, 0.08387048, 0.17703729, 0.20567268,\n",
       "        0.11990222, 0.12811284, 0.10884163, 0.13313422, 0.26396131,\n",
       "        0.07464202, 0.0989346 , 0.17140521, 0.14928403, 0.17893727,\n",
       "        0.12478788, 0.06785638, 0.13842701, 0.21286546, 0.1228879 ,\n",
       "        0.09750962, 0.08407405, 0.1446698 , 0.28601464, 0.14670549,\n",
       "        0.11291301, 0.15186258, 0.17418732, 0.08142765, 0.05781363,\n",
       "        0.12567001, 0.08163122],\n",
       "       [0.13429844, 0.13429844, 0.13429844, 0.0895323 , 0.17906459,\n",
       "        0.17906459, 0.13429844, 0.13429844, 0.13429844, 0.13429844,\n",
       "        0.17906459, 0.13429844, 0.13429844, 0.22383074, 0.13429844,\n",
       "        0.17906459, 0.0895323 , 0.13429844, 0.17906459, 0.17906459,\n",
       "        0.13429844, 0.0895323 , 0.13429844, 0.17906459, 0.13429844,\n",
       "        0.13429844, 0.13429844, 0.13429844, 0.13429844, 0.13429844,\n",
       "        0.0895323 , 0.04476615, 0.17906459, 0.13429844, 0.17906459,\n",
       "        0.13429844, 0.13429844, 0.17906459, 0.17906459, 0.17906459,\n",
       "        0.0895323 , 0.13429844, 0.17906459, 0.13429844, 0.0895323 ,\n",
       "        0.17906459, 0.13429844]])"
      ]
     },
     "execution_count": 182,
     "metadata": {},
     "output_type": "execute_result"
    }
   ],
   "source": [
    "X"
   ]
  },
  {
   "cell_type": "code",
   "execution_count": 181,
   "metadata": {},
   "outputs": [
    {
     "data": {
      "text/plain": [
       "array([[ -63726.02667587,    4040.03928281,  -31514.03366747,\n",
       "          98778.49700346, -197408.60932227,   38092.4957334 ,\n",
       "          18747.50030121,  134174.23255831,  120964.90934414,\n",
       "          90970.20394872,   97794.03733685,  -11286.99719233,\n",
       "           5226.43783833, -348511.53004   ,   72568.47955718,\n",
       "        -110511.29549077,   30452.9857575 ,  132426.64247519,\n",
       "        -159239.68116782, -256371.20464909,   81780.25155444,\n",
       "          77870.5939628 ,   91057.76891806,   77990.55033072,\n",
       "        -229809.74453737,   81823.83487674, -131189.36276851,\n",
       "        -130955.55015714, -138400.5154299 ,   38636.44722101,\n",
       "         -17246.594069  ,  156688.63587969,   23336.27821807,\n",
       "        -239147.34837292,   51321.25660009,   83317.55664643,\n",
       "         102439.93970162,   -6355.94017121, -201123.23261551,\n",
       "          51777.03209315,  -36622.26561113,    6867.91610496,\n",
       "          26572.15766207,   33167.07575795,  148378.61843341,\n",
       "          37502.98536139,   92680.37298439]])"
      ]
     },
     "execution_count": 181,
     "metadata": {},
     "output_type": "execute_result"
    }
   ],
   "source": [
    "result[0].dot(X)-y"
   ]
  }
 ],
 "metadata": {
  "kernelspec": {
   "display_name": "Python 3",
   "language": "python",
   "name": "python3"
  },
  "language_info": {
   "codemirror_mode": {
    "name": "ipython",
    "version": 3
   },
   "file_extension": ".py",
   "mimetype": "text/x-python",
   "name": "python",
   "nbconvert_exporter": "python",
   "pygments_lexer": "ipython3",
   "version": "3.6.5"
  }
 },
 "nbformat": 4,
 "nbformat_minor": 2
}
