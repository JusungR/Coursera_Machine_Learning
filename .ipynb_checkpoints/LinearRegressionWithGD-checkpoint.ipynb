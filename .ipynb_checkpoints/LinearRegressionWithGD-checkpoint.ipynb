{
 "cells": [
  {
   "cell_type": "markdown",
   "metadata": {},
   "source": [
    "Linear Rgression"
   ]
  },
  {
   "cell_type": "code",
   "execution_count": 84,
   "metadata": {},
   "outputs": [],
   "source": [
    "import numpy as np\n",
    "import pandas as pd"
   ]
  },
  {
   "cell_type": "code",
   "execution_count": 94,
   "metadata": {},
   "outputs": [],
   "source": [
    "#read data\n",
    "df = pd.read_table('ex1/ex1data2.txt',sep= ',',header=None)"
   ]
  },
  {
   "cell_type": "code",
   "execution_count": 95,
   "metadata": {},
   "outputs": [],
   "source": [
    "df.columns = ['X1', 'X2','y']\n"
   ]
  },
  {
   "cell_type": "code",
   "execution_count": 96,
   "metadata": {},
   "outputs": [],
   "source": [
    "y=np.array([df.y])\n",
    "m=len(y[0])\n",
    "\n",
    "X1 = (df.X1-df.X1.mean())/df.X1.std()        \n",
    "X2 = (df.X2-df.X2.mean())/df.X2.std()\n",
    "X=np.array((np.ones(m),X1,X2))\n",
    "theta= np.array([np.zeros(len(X))])"
   ]
  },
  {
   "cell_type": "code",
   "execution_count": 103,
   "metadata": {},
   "outputs": [
    {
     "data": {
      "text/plain": [
       "array([[ 1.00000000e+00,  1.00000000e+00,  1.00000000e+00,\n",
       "         1.00000000e+00,  1.00000000e+00,  1.00000000e+00,\n",
       "         1.00000000e+00,  1.00000000e+00,  1.00000000e+00,\n",
       "         1.00000000e+00,  1.00000000e+00,  1.00000000e+00,\n",
       "         1.00000000e+00,  1.00000000e+00,  1.00000000e+00,\n",
       "         1.00000000e+00,  1.00000000e+00,  1.00000000e+00,\n",
       "         1.00000000e+00,  1.00000000e+00,  1.00000000e+00,\n",
       "         1.00000000e+00,  1.00000000e+00,  1.00000000e+00,\n",
       "         1.00000000e+00,  1.00000000e+00,  1.00000000e+00,\n",
       "         1.00000000e+00,  1.00000000e+00,  1.00000000e+00,\n",
       "         1.00000000e+00,  1.00000000e+00,  1.00000000e+00,\n",
       "         1.00000000e+00,  1.00000000e+00,  1.00000000e+00,\n",
       "         1.00000000e+00,  1.00000000e+00,  1.00000000e+00,\n",
       "         1.00000000e+00,  1.00000000e+00,  1.00000000e+00,\n",
       "         1.00000000e+00,  1.00000000e+00,  1.00000000e+00,\n",
       "         1.00000000e+00,  1.00000000e+00],\n",
       "       [ 1.30009869e-01, -5.04189838e-01,  5.02476364e-01,\n",
       "        -7.35723065e-01,  1.25747602e+00, -1.97317285e-02,\n",
       "        -5.87239800e-01, -7.21881404e-01, -7.81023044e-01,\n",
       "        -6.37573110e-01, -7.63567023e-02, -8.56737193e-04,\n",
       "        -1.39273340e-01,  3.11729182e+00, -9.21956312e-01,\n",
       "         3.76643089e-01, -8.56523009e-01, -9.62222960e-01,\n",
       "         7.65467909e-01,  1.29648433e+00, -2.94048269e-01,\n",
       "        -1.41790005e-01, -4.99156507e-01, -4.86733818e-02,\n",
       "         2.37739217e+00, -1.13335621e+00, -6.82873089e-01,\n",
       "         6.61026291e-01,  2.50809813e-01,  8.00701226e-01,\n",
       "        -2.03448310e-01, -1.25918949e+00,  4.94765729e-02,\n",
       "         1.42986760e+00, -2.38681627e-01, -7.09298077e-01,\n",
       "        -9.58447962e-01,  1.65243186e-01,  2.78635031e+00,\n",
       "         2.02993169e-01, -4.23656542e-01,  2.98626458e-01,\n",
       "         7.12617934e-01, -1.00752294e+00, -1.44542274e+00,\n",
       "        -1.87089985e-01, -1.00374794e+00],\n",
       "       [-2.23675187e-01, -2.23675187e-01, -2.23675187e-01,\n",
       "        -1.53776691e+00,  1.09041654e+00,  1.09041654e+00,\n",
       "        -2.23675187e-01, -2.23675187e-01, -2.23675187e-01,\n",
       "        -2.23675187e-01,  1.09041654e+00, -2.23675187e-01,\n",
       "        -2.23675187e-01,  2.40450826e+00, -2.23675187e-01,\n",
       "         1.09041654e+00, -1.53776691e+00, -2.23675187e-01,\n",
       "         1.09041654e+00,  1.09041654e+00, -2.23675187e-01,\n",
       "        -1.53776691e+00, -2.23675187e-01,  1.09041654e+00,\n",
       "        -2.23675187e-01, -2.23675187e-01, -2.23675187e-01,\n",
       "        -2.23675187e-01, -2.23675187e-01, -2.23675187e-01,\n",
       "        -1.53776691e+00, -2.85185864e+00,  1.09041654e+00,\n",
       "        -2.23675187e-01,  1.09041654e+00, -2.23675187e-01,\n",
       "        -2.23675187e-01,  1.09041654e+00,  1.09041654e+00,\n",
       "         1.09041654e+00, -1.53776691e+00, -2.23675187e-01,\n",
       "         1.09041654e+00, -2.23675187e-01, -1.53776691e+00,\n",
       "         1.09041654e+00, -2.23675187e-01]])"
      ]
     },
     "execution_count": 103,
     "metadata": {},
     "output_type": "execute_result"
    }
   ],
   "source": [
    "X"
   ]
  },
  {
   "cell_type": "code",
   "execution_count": 97,
   "metadata": {},
   "outputs": [
    {
     "name": "stdout",
     "output_type": "stream",
     "text": [
      "(1, 3)\n",
      "(3, 47)\n"
     ]
    }
   ],
   "source": [
    "print(theta.shape)\n",
    "print(X.shape)"
   ]
  },
  {
   "cell_type": "markdown",
   "metadata": {},
   "source": [
    "Cost function"
   ]
  },
  {
   "cell_type": "code",
   "execution_count": 104,
   "metadata": {},
   "outputs": [],
   "source": [
    "def J(X,y,theta): \n",
    "    temp=(1/(2*m))*np.sum((theta.dot(X)-y)**2)\n",
    "    return temp"
   ]
  },
  {
   "cell_type": "code",
   "execution_count": 105,
   "metadata": {},
   "outputs": [
    {
     "data": {
      "text/plain": [
       "64300749594.56597"
      ]
     },
     "execution_count": 105,
     "metadata": {},
     "output_type": "execute_result"
    }
   ],
   "source": [
    "J(X,y,theta)"
   ]
  },
  {
   "cell_type": "markdown",
   "metadata": {},
   "source": [
    "Gradient Descent"
   ]
  },
  {
   "cell_type": "code",
   "execution_count": 106,
   "metadata": {},
   "outputs": [],
   "source": [
    "#alpha = 0.01 ; num_iters = 400;\n",
    "def GD(X,y,theta,alpha = 0.01 , num_iters = 400) :\n",
    "    i=1\n",
    "    while i <= num_iters :\n",
    "        prediction = theta.dot(X)\n",
    "        theta = theta - alpha*(1/m)*((prediction-y).dot(X.T))\n",
    "        cost = J(X,y,theta)\n",
    "        #print(cost)\n",
    "        i+=1\n",
    "    return theta, cost"
   ]
  },
  {
   "cell_type": "code",
   "execution_count": 107,
   "metadata": {},
   "outputs": [],
   "source": [
    "result=GD(X,y,theta,num_iters = 1500)"
   ]
  },
  {
   "cell_type": "code",
   "execution_count": 109,
   "metadata": {},
   "outputs": [
    {
     "data": {
      "text/plain": [
       "(array([[340412.56397999, 110540.95623298,  -6559.38023467]]),\n",
       " 2043283546.3315334)"
      ]
     },
     "execution_count": 109,
     "metadata": {},
     "output_type": "execute_result"
    }
   ],
   "source": [
    "result"
   ]
  },
  {
   "cell_type": "code",
   "execution_count": 108,
   "metadata": {},
   "outputs": [
    {
     "data": {
      "text/plain": [
       "array([[ -43648.85017108,  -43753.89225845,   28423.95232467,\n",
       "          37171.83077242,  -67637.29152298,   31178.9431622 ,\n",
       "         -37934.31443656,   63083.27385045,   43544.7004812 ,\n",
       "          28901.79333429,   84820.56440439,   -5214.96996689,\n",
       "          -3514.67359707,  -30671.10094065,  -19934.19776044,\n",
       "         -75005.4055332 ,  -44081.51057756,   35614.68845623,\n",
       "         -82122.33806297, -122425.27504538,   56475.35779828,\n",
       "          79825.75907646,   43802.49696447,   67979.70513043,\n",
       "          30778.93786072,  -33302.5451229 , -198105.70967195,\n",
       "         -54049.78715349, -105395.50882111,  130490.01378242,\n",
       "         -21890.00890426,   50026.97887418,   23829.29497728,\n",
       "         -79961.33335314,   20976.01196537,   13573.24690774,\n",
       "           6031.98037342,    6526.24710434,   92265.93493763,\n",
       "          68699.16627621,  -64832.03740682,   44990.18879659,\n",
       "          98033.57509641,  -68492.81455001,   10820.95034132,\n",
       "          12679.00150025,   -8575.52263282]])"
      ]
     },
     "execution_count": 108,
     "metadata": {},
     "output_type": "execute_result"
    }
   ],
   "source": [
    "result[0].dot(X)-y"
   ]
  }
 ],
 "metadata": {
  "kernelspec": {
   "display_name": "Python 3",
   "language": "python",
   "name": "python3"
  },
  "language_info": {
   "codemirror_mode": {
    "name": "ipython",
    "version": 3
   },
   "file_extension": ".py",
   "mimetype": "text/x-python",
   "name": "python",
   "nbconvert_exporter": "python",
   "pygments_lexer": "ipython3",
   "version": "3.6.5"
  }
 },
 "nbformat": 4,
 "nbformat_minor": 2
}
